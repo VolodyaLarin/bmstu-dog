{
 "cells": [
  {
   "cell_type": "code",
   "execution_count": 11,
   "metadata": {},
   "outputs": [],
   "source": [
    "class Node:\n",
    "    def __init__(self, number):\n",
    "        self.number = number\n",
    "\n",
    "class Edge:\n",
    "    def __init__(self, startNode, endNode, label):\n",
    "        self.startNode = startNode\n",
    "        self.endNode = endNode\n",
    "        self.used = False\n",
    "        self.label = label"
   ]
  },
  {
   "cell_type": "code",
   "execution_count": 3,
   "metadata": {},
   "outputs": [],
   "source": [
    "def get_edges():\n",
    "    return [\n",
    "    Edge(Node(x), Node(y), z) for x,y,z in [ \n",
    "            (0,1,101),\n",
    "            (1,3,102),\n",
    "            (0,2,103),\n",
    "            (2,4,104),\n",
    "            (4,5,105),\n",
    "            (3,4,106),\n",
    "            (3,8,107),\n",
    "            (4,8,108),\n",
    "            (8,7,109),\n",
    "            (7,6,110),\n",
    "            (4,6,111),\n",
    "            (2,5,112),\n",
    "            (5,6,113),\n",
    "        ]]"
   ]
  },
  {
   "cell_type": "code",
   "execution_count": 4,
   "metadata": {},
   "outputs": [],
   "source": [
    "class GraphDFS:\n",
    "    def __init__(self, edges):\n",
    "        self.edges = edges\n",
    "        self.opened = list() # стек\n",
    "        self.closed = list() \n",
    "        self.goal = None\n",
    "        self.FN = 1\n",
    "        self.FY = 1\n",
    "\n",
    "    # метод поиска\n",
    "    def search(self, start, goal):\n",
    "        self.opened.append(start)\n",
    "        self.goal = goal\n",
    "\n",
    "        while self.FY and self.FN:\n",
    "            childCounter = self.children()\n",
    "\n",
    "            print(self.opened)\n",
    "            \n",
    "            if self.FY == 0:\n",
    "                return self.opened\n",
    "             \n",
    "            if childCounter == 0 and len(self.opened) > 1:\n",
    "                currentNode = self.opened.pop()\n",
    "                self.closed.append(currentNode)\n",
    "            if len(self.opened) == 0:\n",
    "                self.FN = 0\n",
    "                return None\n",
    "            \n",
    "        return self.opened\n",
    "\n",
    "    # метод потомки\n",
    "    def children(self):\n",
    "        childCounter = 0\n",
    "\n",
    "        for edge in self.edges:\n",
    "            currentNode = self.opened[-1]\n",
    "\n",
    "            if edge.startNode.number != currentNode:\n",
    "                continue\n",
    "            if edge.used:\n",
    "                continue\n",
    "            if (edge.endNode.number in self.opened) or (edge.endNode.number in self.closed):\n",
    "                continue\n",
    "\n",
    "            edge.used = True\n",
    "            self.opened.append(edge.endNode.number)\n",
    "            childCounter += 1\n",
    "\n",
    "            if edge.endNode.number == self.goal:\n",
    "                self.FY = 0\n",
    "            break\n",
    "\n",
    "        return childCounter"
   ]
  },
  {
   "cell_type": "code",
   "execution_count": 12,
   "metadata": {},
   "outputs": [
    {
     "name": "stdout",
     "output_type": "stream",
     "text": [
      "[0, 1]\n",
      "[0, 1, 3]\n",
      "[0, 1, 3, 4]\n",
      "[0, 1, 3, 4, 5]\n",
      "[0, 1, 3, 4, 5, 6]\n",
      "[0, 1, 3, 4, 5, 6]\n",
      "[0, 1, 3, 4, 5]\n",
      "[0, 1, 3, 4, 8]\n",
      "[0, 1, 3, 4, 8, 7]\n"
     ]
    },
    {
     "data": {
      "text/plain": [
       "[0, 1, 3, 4, 8, 7]"
      ]
     },
     "execution_count": 12,
     "metadata": {},
     "output_type": "execute_result"
    }
   ],
   "source": [
    "GraphDFS(get_edges()).search(0, 7)"
   ]
  },
  {
   "cell_type": "code",
   "execution_count": 9,
   "metadata": {},
   "outputs": [],
   "source": [
    "class GraphBFS:\n",
    "    def __init__(self, edges):\n",
    "        self.edges = edges\n",
    "        self.opened = list() # очередь\n",
    "        self.closed = set()\n",
    "        self.goal = None\n",
    "        self.FY = 1\n",
    "        self.FN = 1\n",
    "\n",
    "        self.resultPath = {}\n",
    "        \n",
    "\n",
    "    def search(self, start, goal):\n",
    "        self.opened.append(start)\n",
    "        self.goal = goal\n",
    "\n",
    "        while self.FY and self.FN:\n",
    "            childCounter = self.children()\n",
    "\n",
    "            print(self.opened, self.closed)\n",
    "\n",
    "            if self.FY == 0:\n",
    "                break\n",
    "\n",
    "            currentNode = self.opened.pop(0)\n",
    "            self.closed.add(currentNode)\n",
    "\n",
    "            if childCounter == 0 and len(self.opened) == 0:\n",
    "                self.FN = 0\n",
    "                break\n",
    "\n",
    "        if self.FN == 0:\n",
    "            return None\n",
    "        return self.getResultPath(start)\n",
    "\n",
    "    # потомки\n",
    "    def children(self):\n",
    "        childCounter = 0\n",
    "\n",
    "        for edge in self.edges:\n",
    "            currentNode = self.opened[0]\n",
    "\n",
    "            if edge.startNode.number != currentNode:\n",
    "                continue\n",
    "            if edge.used:\n",
    "                continue\n",
    "            if edge.endNode.number in self.opened or edge.endNode.number in self.closed:\n",
    "                continue\n",
    "\n",
    "            edge.used = True\n",
    "            self.opened.append(edge.endNode.number)\n",
    "            self.resultPath[edge.endNode.number] = edge.startNode.number\n",
    "            childCounter += 1\n",
    "\n",
    "            if edge.endNode.number == self.goal:\n",
    "                self.FY = 0\n",
    "                break\n",
    "\n",
    "        return childCounter\n",
    "\n",
    "\n",
    "    def getResultPath(self, start):\n",
    "        current = self.goal\n",
    "        result = [current]\n",
    "        while current != start:\n",
    "            current = self.resultPath[current]\n",
    "            result.insert(0, current)\n",
    "        return result\n",
    "\n"
   ]
  },
  {
   "cell_type": "code",
   "execution_count": 16,
   "metadata": {},
   "outputs": [
    {
     "name": "stdout",
     "output_type": "stream",
     "text": [
      "[0, 1, 2] set()\n",
      "[1, 2, 3] {0}\n",
      "[2, 3, 4, 5] {0, 1}\n",
      "[3, 4, 5, 8] {0, 1, 2}\n",
      "[4, 5, 8, 6] {0, 1, 2, 3}\n",
      "[5, 8, 6] {0, 1, 2, 3, 4}\n",
      "[8, 6, 7] {0, 1, 2, 3, 4, 5}\n",
      "[6, 7] {0, 1, 2, 3, 4, 5, 8}\n",
      "[7] {0, 1, 2, 3, 4, 5, 6, 8}\n"
     ]
    }
   ],
   "source": [
    "GraphBFS(get_edges()).search(0, 10)"
   ]
  }
 ],
 "metadata": {
  "kernelspec": {
   "display_name": "Python 3",
   "language": "python",
   "name": "python3"
  },
  "language_info": {
   "codemirror_mode": {
    "name": "ipython",
    "version": 3
   },
   "file_extension": ".py",
   "mimetype": "text/x-python",
   "name": "python",
   "nbconvert_exporter": "python",
   "pygments_lexer": "ipython3",
   "version": "3.12.3"
  }
 },
 "nbformat": 4,
 "nbformat_minor": 2
}
