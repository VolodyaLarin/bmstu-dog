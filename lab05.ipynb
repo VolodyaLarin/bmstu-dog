{
 "cells": [
  {
   "cell_type": "code",
   "execution_count": 43,
   "metadata": {},
   "outputs": [],
   "source": [
    "from IPython.display import display, Markdown"
   ]
  },
  {
   "cell_type": "code",
   "execution_count": 44,
   "metadata": {},
   "outputs": [],
   "source": [
    "class Term:\n",
    "    def __init__(self, name:str, type:str, value=None):\n",
    "        self.name = name\n",
    "        self.type = type\n",
    "        self.value = None\n",
    "        \n",
    "        if type == \"const\":\n",
    "            if value:   \n",
    "                self.value = value\n",
    "            else:\n",
    "                self.value = name    \n",
    "    def __repr__(self):\n",
    "        return \"{:}:{:}\".format(self.name, self.type)\n",
    "    \n",
    "    def to_latex(self):\n",
    "        return \"{\" + self.name + \"}_{\"+self.type+\"}\"\n",
    "\n",
    "    def copy(self):\n",
    "        return Term(self.name, self.type, self.value)\n",
    "\n",
    "\n",
    "class Atom:\n",
    "    def __init__(self, name: str, args: list[Term], isPositive = True ):\n",
    "        self.name = name\n",
    "        self.args = args\n",
    "        self.isPositive = isPositive\n",
    "\n",
    "    def __repr__(self):\n",
    "        return \"{:}{:}({:})\".format('~' if not self.isPositive else '', self.name, \", \".join(\n",
    "                [\n",
    "                    \"{:}\".format(term) for term in self.args\n",
    "                ]))\n",
    "    \n",
    "    def to_latex(self):\n",
    "         return \"{:}{:}({:})\".format('\\\\not' if not self.isPositive else '', self.name, \", \".join(\n",
    "                [\n",
    "                    term.to_latex() for term in self.args\n",
    "                ]))\n",
    "\n",
    "    def copy(self):\n",
    "        return Atom(self.name, [arg.copy() for arg in self.args], self.isPositive)\n",
    "\n",
    "\n",
    "class Conjunct:\n",
    "    def __init__(self, args: list[Atom]):\n",
    "        self.args = args\n",
    "\n",
    "    def __repr__(self):\n",
    "        if len(self.args) == 0:\n",
    "            return \"Пусто\"\n",
    "\n",
    "        return \" & \".join(\n",
    "            [\n",
    "                \"{:}\".format(atom) for atom in self.args\n",
    "            ]\n",
    "        )\n",
    "    \n",
    "    def to_latex(self):\n",
    "        if len(self.args) == 0:\n",
    "            return \"\\\\oslash\"\n",
    "\n",
    "        return \" \\\\wedge \".join(\n",
    "            [\n",
    "                atom.to_latex() for atom in self.args\n",
    "            ]\n",
    "        )\n",
    "    \n",
    "\n",
    "    def copy(self):\n",
    "        return Conjunct([arg.copy() for arg in self.args])\n",
    "\n",
    "class Implication:\n",
    "    def __init__(self, left: Conjunct, right : Conjunct):\n",
    "        self.left = left\n",
    "        self.right = right\n",
    "\n",
    "    def __repr__(self):\n",
    "        return \"{:} -> {:}\".format(self.left, self.right)\n",
    "\n",
    "    def to_latex(self):\n",
    "        return \"{:} \\\\rightarrow {:}\".format(self.left.to_latex(), self.right.to_latex())\n",
    "\n",
    "    def copy(self):\n",
    "        return Implication(self.left.copy(), self.right.copy())\n",
    "\n",
    "class Knowleadge:\n",
    "    def __init__(self, data: Conjunct, rules: list[Implication]):\n",
    "        self.data = data\n",
    "        self.rules = rules\n",
    "\n",
    "    def __repr__(self):\n",
    "        return \"\\n\".join([\"{:}\".format(i) for i in self.data.args + self.rules])\n",
    "\n",
    "    def to_latex(self):\n",
    "        return \"\\n\\n\".join([\"${:}$\".format(i.to_latex()) for i in self.data.args + self.rules])\n",
    "\n",
    "\n",
    "    def copy(self):\n",
    "        return Knowleadge(\n",
    "            self.data.copy(),\n",
    "              [rule.copy() for rule in self.rules]\n",
    "        )\n"
   ]
  },
  {
   "cell_type": "code",
   "execution_count": 45,
   "metadata": {},
   "outputs": [
    {
     "name": "stdout",
     "output_type": "stream",
     "text": [
      "S(x4:var) & ~M(Kola:const) -> R(x4:var)\n"
     ]
    }
   ],
   "source": [
    "def parse_term(exp:str):\n",
    "    exp = exp.strip()\n",
    "\n",
    "    if ':' in exp:\n",
    "        name, t = [e.strip() for e in exp.split(':')]\n",
    "        return Term(name, t)\n",
    "    \n",
    "\n",
    "    return Term(exp, \"const\" if exp[0].capitalize() == exp[0] else \"var\")\n",
    "\n",
    "\n",
    "def parse_atom(exp:str):\n",
    "    exp = exp.strip()\n",
    "\n",
    "    isPositive = exp[0] != '~'\n",
    "        \n",
    "    if not isPositive:\n",
    "        exp = exp[1:].strip()\n",
    "\n",
    "    \n",
    "    atom_name, atom_args = exp.split('(')\n",
    "\n",
    "    atom_name = atom_name.strip()\n",
    "    atom_args = atom_args.split(')')[0].strip()\n",
    "\n",
    "    atom_terms = [parse_term(term) for term in atom_args.split(',')]\n",
    "    \n",
    "    return Atom(atom_name, atom_terms, isPositive)\n",
    "\n",
    "def parse_conjunct(exp:str):\n",
    "    exp = exp.strip()\n",
    "    atoms = [parse_atom(atom) for atom in exp.split(\"&\")]\n",
    "    \n",
    "    return Conjunct(atoms)\n",
    "\n",
    "def parse_implication(exp:str): \n",
    "    exp = exp.strip()\n",
    "    left, right = exp.split(\"->\")\n",
    "    return Implication(parse_conjunct(left), parse_conjunct(right))\n",
    "\n",
    "print(parse_implication('S(x4) & ~M(Kola) -> R(x4)'))\n"
   ]
  },
  {
   "cell_type": "code",
   "execution_count": 46,
   "metadata": {},
   "outputs": [],
   "source": [
    "def add_substitution(substitions: map, sub:str, term: Term):\n",
    "    for s in substitions:\n",
    "        if substitions[s].name == sub:\n",
    "            substitions[s] = term\n",
    "    substitions[sub] = term\n",
    "\n",
    "def UnificateAtoms(left:Atom, right:Atom):\n",
    "    if left.name != right.name:\n",
    "        return\n",
    "    if len(left.args) != len(right.args):\n",
    "        return\n",
    "    \n",
    "    substitions = {}\n",
    "\n",
    "    for i in range(len(left.args)):\n",
    "        leftTerm = left.args[i]\n",
    "        rightTerm = right.args[i]\n",
    "\n",
    "        if leftTerm.name == rightTerm.name:\n",
    "            continue\n",
    "\n",
    "        if leftTerm.type == \"const\" and rightTerm.type == \"const\":\n",
    "            if leftTerm.value != rightTerm.value:\n",
    "                return\n",
    "        elif leftTerm.type == \"var\" and rightTerm.type == \"const\":\n",
    "            add_substitution(substitions, leftTerm.name, rightTerm)\n",
    "        elif leftTerm.type == \"const\" and rightTerm.type == \"var\":\n",
    "            add_substitution(substitions, rightTerm.name, leftTerm)\n",
    "        elif leftTerm.type == \"var\" and rightTerm.type == \"var\":\n",
    "            if leftTerm.name != rightTerm.name:\n",
    "                add_substitution(substitions, leftTerm.name, rightTerm)\n",
    "        else:\n",
    "            print(\"errr\")\n",
    "    return substitions   \n",
    "                \n",
    "        "
   ]
  },
  {
   "cell_type": "code",
   "execution_count": 47,
   "metadata": {},
   "outputs": [
    {
     "name": "stdout",
     "output_type": "stream",
     "text": [
      "(S(W:const, M:const, N:const), {'x1': M:const})\n"
     ]
    }
   ],
   "source": [
    "def ShareSubstitutions(substitutions, atoms: list[Atom]):\n",
    "    for atom in atoms:\n",
    "        for term in atom.args:\n",
    "            for sub in substitutions:\n",
    "                if sub == term.name:\n",
    "                    term.name = substitutions[sub].name\n",
    "                    term.type = substitutions[sub].type\n",
    "                    if substitutions[sub].type == \"const\":\n",
    "                        term.value = substitutions[sub].value\n",
    "                    else:\n",
    "                        term.isLinked = True\n",
    "\n",
    "def Concluse(data: Conjunct, implicat: Implication):\n",
    "    # print(data.args, implicat)\n",
    "\n",
    "    result = implicat.right.copy()\n",
    "\n",
    "    implicatAtoms = implicat.left.copy()\n",
    "    \n",
    "    globalSubstitutions = {}\n",
    "    \n",
    "    counter = 1\n",
    "    while counter:\n",
    "        counter = 0\n",
    "        for implicatAtom in implicatAtoms.args:\n",
    "            for dataAtom in data.args:\n",
    "                if implicatAtom.isPositive != dataAtom.isPositive:\n",
    "                    continue\n",
    "\n",
    "                # print(\"Try\", implicatAtom, dataAtom)\n",
    "                substitutions = UnificateAtoms(implicatAtom, dataAtom)\n",
    "                if substitutions == None:\n",
    "                    continue\n",
    "                # print(\"Unificated\", implicatAtom, dataAtom, \"Sub\", substitutions)\n",
    "\n",
    "                for sub in substitutions:\n",
    "                    add_substitution(globalSubstitutions, sub, substitutions[sub])\n",
    "                \n",
    "                implicatAtoms.args.remove(implicatAtom)\n",
    "\n",
    "                ShareSubstitutions(substitutions, result.args + implicatAtoms.args)\n",
    "                counter += 1\n",
    "                break\n",
    "            \n",
    "    if len(implicatAtoms.args):\n",
    "        # print(\"Not resolved\", implicatAtoms.args)\n",
    "        return None\n",
    "    return result, globalSubstitutions\n",
    "\n",
    "\n",
    "print(\n",
    "    Concluse(\n",
    "        parse_conjunct(\"O(N:const, M:const) & M(M:const) & A(W:const) & E(N:const, A:const)\"),\n",
    "        parse_implication(\"M(x1:var) & O(N:const, x1:var) -> S(W:const, x1:var, N:const)\")\n",
    "    )    \n",
    ")\n"
   ]
  },
  {
   "cell_type": "code",
   "execution_count": 48,
   "metadata": {},
   "outputs": [
    {
     "data": {
      "text/markdown": [
       "$O({N}_{const}, {M}_{const})$\n",
       "\n",
       "$M({M}_{const})$\n",
       "\n",
       "$A({W}_{const})$\n",
       "\n",
       "$E({N}_{const}, {A}_{const})$\n",
       "\n",
       "$W({y}_{var}) \\wedge A({x}_{var}) \\wedge S({x}_{var}, {y}_{var}, {z}_{var}) \\wedge H({z}_{var}) \\rightarrow C({x}_{var})$\n",
       "\n",
       "$M({x_1}_{var}) \\wedge O({N}_{const}, {x_1}_{var}) \\rightarrow S({W}_{const}, {x_1}_{var}, {N}_{const})$\n",
       "\n",
       "$M({x_2}_{var}) \\rightarrow W({x_2}_{var})$\n",
       "\n",
       "$E({x_3}_{var}, {A}_{const}) \\rightarrow H({x_3}_{var})$"
      ],
      "text/plain": [
       "<IPython.core.display.Markdown object>"
      ]
     },
     "execution_count": 48,
     "metadata": {},
     "output_type": "execute_result"
    }
   ],
   "source": [
    "def parse_knowleadge(exp: str):\n",
    "    data = []\n",
    "    rules = []\n",
    "\n",
    "    for string in exp.splitlines():\n",
    "        string = string.strip()\n",
    "\n",
    "        if not string:\n",
    "            continue\n",
    "\n",
    "        try:\n",
    "            impl = parse_implication(string)\n",
    "            rules.append(impl)\n",
    "        except:\n",
    "            atom = parse_atom(string)\n",
    "            data.append(atom)\n",
    "    return Knowleadge(Conjunct(data), rules)\n",
    "    \n",
    "\n",
    "def get_knowleadge(): \n",
    "    return parse_knowleadge(\n",
    "\"\"\"\n",
    "O(N, M)\n",
    "M(M)\n",
    "A(W)\n",
    "E(N, A)\n",
    "                            \n",
    "W(y) & A(x) & S(x,y,z) & H(z) -> C(x)\n",
    "M(x_1) & O(N, x_1) -> S(W, x_1, N)\n",
    "M(x_2) -> W(x_2)\n",
    "E(x_3,A) -> H(x_3)\n",
    "\"\"\")\n",
    "\n",
    "Markdown(get_knowleadge().to_latex())"
   ]
  },
  {
   "cell_type": "code",
   "execution_count": 52,
   "metadata": {},
   "outputs": [
    {
     "data": {
      "text/markdown": [
       "$O({N}_{const}, {M}_{const})$\n",
       "\n",
       "$M({M}_{const})$\n",
       "\n",
       "$A({W}_{const})$\n",
       "\n",
       "$E({N}_{const}, {A}_{const})$\n",
       "\n",
       "$W({y}_{var}) \\wedge A({x}_{var}) \\wedge S({x}_{var}, {y}_{var}, {z}_{var}) \\wedge H({z}_{var}) \\rightarrow C({x}_{var})$\n",
       "\n",
       "$M({x_1}_{var}) \\wedge O({N}_{const}, {x_1}_{var}) \\rightarrow S({W}_{const}, {x_1}_{var}, {N}_{const})$\n",
       "\n",
       "$M({x_2}_{var}) \\rightarrow W({x_2}_{var})$\n",
       "\n",
       "$E({x_3}_{var}, {A}_{const}) \\rightarrow H({x_3}_{var})$"
      ],
      "text/plain": [
       "<IPython.core.display.Markdown object>"
      ]
     },
     "metadata": {},
     "output_type": "display_data"
    },
    {
     "name": "stdout",
     "output_type": "stream",
     "text": [
      "\n"
     ]
    },
    {
     "data": {
      "text/markdown": [
       "База фактов: $O({N}_{const}, {M}_{const}) \\wedge M({M}_{const}) \\wedge A({W}_{const}) \\wedge E({N}_{const}, {A}_{const})$\n",
       "\n",
       "Правило: $M({x_1}_{var}) \\wedge O({N}_{const}, {x_1}_{var}) \\rightarrow S({W}_{const}, {x_1}_{var}, {N}_{const})$\n",
       "\n",
       "$\\Rightarrow$ $S({W}_{const}, {M}_{const}, {N}_{const})$ с подстановкой $\\{x_1 / {M}_{const}\\}$"
      ],
      "text/plain": [
       "<IPython.core.display.Markdown object>"
      ]
     },
     "metadata": {},
     "output_type": "display_data"
    },
    {
     "data": {
      "text/markdown": [
       "База фактов: $O({N}_{const}, {M}_{const}) \\wedge M({M}_{const}) \\wedge A({W}_{const}) \\wedge E({N}_{const}, {A}_{const}) \\wedge S({W}_{const}, {M}_{const}, {N}_{const})$\n",
       "\n",
       "Правило: $E({x_3}_{var}, {A}_{const}) \\rightarrow H({x_3}_{var})$\n",
       "\n",
       "$\\Rightarrow$ $H({N}_{const})$ с подстановкой $\\{x_3 / {N}_{const}\\}$"
      ],
      "text/plain": [
       "<IPython.core.display.Markdown object>"
      ]
     },
     "metadata": {},
     "output_type": "display_data"
    },
    {
     "data": {
      "text/markdown": [
       "База фактов: $O({N}_{const}, {M}_{const}) \\wedge M({M}_{const}) \\wedge A({W}_{const}) \\wedge E({N}_{const}, {A}_{const}) \\wedge S({W}_{const}, {M}_{const}, {N}_{const}) \\wedge H({N}_{const})$\n",
       "\n",
       "Правило: $M({x_2}_{var}) \\rightarrow W({x_2}_{var})$\n",
       "\n",
       "$\\Rightarrow$ $W({M}_{const})$ с подстановкой $\\{x_2 / {M}_{const}\\}$"
      ],
      "text/plain": [
       "<IPython.core.display.Markdown object>"
      ]
     },
     "metadata": {},
     "output_type": "display_data"
    },
    {
     "data": {
      "text/markdown": [
       "База фактов: $O({N}_{const}, {M}_{const}) \\wedge M({M}_{const}) \\wedge A({W}_{const}) \\wedge E({N}_{const}, {A}_{const}) \\wedge S({W}_{const}, {M}_{const}, {N}_{const}) \\wedge H({N}_{const}) \\wedge W({M}_{const})$\n",
       "\n",
       "Правило: $W({y}_{var}) \\wedge A({x}_{var}) \\wedge S({x}_{var}, {y}_{var}, {z}_{var}) \\wedge H({z}_{var}) \\rightarrow C({x}_{var})$\n",
       "\n",
       "$\\Rightarrow$ $C({W}_{const})$ с подстановкой $\\{y / {M}_{const},x / {W}_{const},z / {N}_{const}\\}$"
      ],
      "text/plain": [
       "<IPython.core.display.Markdown object>"
      ]
     },
     "metadata": {},
     "output_type": "display_data"
    },
    {
     "data": {
      "text/plain": [
       "True"
      ]
     },
     "execution_count": 52,
     "metadata": {},
     "output_type": "execute_result"
    }
   ],
   "source": [
    "\n",
    "def substitution_to_latex(subs):\n",
    "    return \"\\\\{\" + \",\".join([\n",
    "            sub + \" / \" + subs[sub].to_latex() for sub in subs\n",
    "        ]\n",
    "    ) +\"\\\\}\"\n",
    "    \n",
    "        \n",
    "\n",
    "def KnowleadgeProve(knowleadge: Knowleadge, goal: Atom):\n",
    "    goal = goal.copy()\n",
    "    knowleadge = knowleadge.copy()\n",
    "    \n",
    "    openRules = knowleadge.rules\n",
    "    \n",
    "\n",
    "    def isApplied(atoms:list[Atom], goal: Atom):\n",
    "        def equalTypes(left:Atom, right: Atom):\n",
    "            if left.name != right.name:\n",
    "                return False\n",
    "            if len(left.args) != len(right.args):\n",
    "                return False\n",
    "            for i in range(len(left.args)):\n",
    "                if left.args[i].type != right.args[i].type:\n",
    "                    return False\n",
    "            return True\n",
    "\n",
    "        for atom in atoms:\n",
    "            if atom.isPositive != goal.isPositive or not equalTypes(atom, goal):\n",
    "                continue\n",
    "            if UnificateAtoms(atom, goal) != None:\n",
    "                return True\n",
    "        return False\n",
    "    \n",
    "    if isApplied(knowleadge.data.args, goal):\n",
    "        return True\n",
    "\n",
    "    counter = 1\n",
    "    while counter and openRules:\n",
    "        counter = 0\n",
    "        for rule in openRules:\n",
    "            res = Concluse(knowleadge.data, rule)\n",
    "            if res:\n",
    "                display(Markdown(\"\\n\\n\".join([\n",
    "                    \"База фактов: $\" + knowleadge.data.to_latex() + \"$\",\n",
    "                    \"Правило: $\" +  rule.to_latex() + \"$\",\n",
    "                    \"$\\\\Rightarrow$ $\"  + res[0].to_latex() + '$ с подстановкой ' + \"${:}$\".format(substitution_to_latex(res[1]))\n",
    "                ])))\n",
    "                \n",
    "                \n",
    "                knowleadge.data.args += res[0].args\n",
    "                if isApplied(res[0].args, goal):\n",
    "                    return True\n",
    "                \n",
    "                openRules.remove(rule)\n",
    "                counter += 1\n",
    "\n",
    "    print(knowleadge)\n",
    "    return False\n",
    "\n",
    "\n",
    "display(Markdown(get_knowleadge().to_latex()))\n",
    "print()\n",
    "KnowleadgeProve(get_knowleadge(), parse_atom(\"C(W)\"))\n"
   ]
  },
  {
   "cell_type": "code",
   "execution_count": null,
   "metadata": {},
   "outputs": [],
   "source": []
  }
 ],
 "metadata": {
  "kernelspec": {
   "display_name": "Python 3",
   "language": "python",
   "name": "python3"
  },
  "language_info": {
   "codemirror_mode": {
    "name": "ipython",
    "version": 3
   },
   "file_extension": ".py",
   "mimetype": "text/x-python",
   "name": "python",
   "nbconvert_exporter": "python",
   "pygments_lexer": "ipython3",
   "version": "3.12.3"
  }
 },
 "nbformat": 4,
 "nbformat_minor": 2
}
