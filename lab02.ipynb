{
 "cells": [
  {
   "cell_type": "code",
   "execution_count": 2,
   "metadata": {},
   "outputs": [],
   "source": [
    "class Node:\n",
    "    def __init__(self, number):\n",
    "        self.number = number\n",
    "\n",
    "class Edge:\n",
    "    def __init__(self, startNode, endNode, number):\n",
    "        self.startNode = startNode\n",
    "        self.endNode = endNode\n",
    "        self.used = False\n",
    "        self.label = number\n",
    "\n",
    "class Rule:\n",
    "    def __init__(self, number, goalNode, nodeArr):\n",
    "        self.number = number\n",
    "        self.goalNode = goalNode\n",
    "        self.nodeArr = nodeArr\n",
    "        self.isClosed = False"
   ]
  },
  {
   "cell_type": "code",
   "execution_count": 71,
   "metadata": {},
   "outputs": [],
   "source": [
    "def get_rules():\n",
    "    return [\n",
    "    Rule(z, Node(x), [Node(i) for i in y]) for x,y,z in [ \n",
    "            (3,[1,2],101),\n",
    "            (7,[2,3,4],102),\n",
    "            (4,[5,6],103),\n",
    "            (3,[8,31],104),\n",
    "            (14,[7,9],105),\n",
    "            (33,[21,15],108),\n",
    "            (15,[16,17],109),\n",
    "            (14,[9,21],110),\n",
    "            (21,[19,20],112),\n",
    "           \n",
    "        ]]"
   ]
  },
  {
   "cell_type": "code",
   "execution_count": 68,
   "metadata": {},
   "outputs": [],
   "source": [
    "class GraphBFS:\n",
    "    def __init__(self, rules):\n",
    "        self.rules = rules\n",
    "\n",
    "        self.closeNodes = []\n",
    "        self.closeRules = []\n",
    "\n",
    "        self.goalNode = None\n",
    "        self.FY = 1\n",
    "        self.FN = 1\n",
    "\n",
    "    def search(self, goalNode, startNodes):\n",
    "        self.goalNode = goalNode\n",
    "        self.closeNodes = startNodes\n",
    "\n",
    "        while self.FY and self.FN:\n",
    "            rulesCount = self.children()\n",
    "\n",
    "            if self.FY == 0:\n",
    "                break\n",
    "\n",
    "            if rulesCount == 0:\n",
    "                self.FN = 0\n",
    "                return None\n",
    "\n",
    "        return self.closeRules, self.closeNodes\n",
    "\n",
    "    # потомки \n",
    "    def children(self):\n",
    "        rulesCount = 0\n",
    "\n",
    "        for rule in self.rules:\n",
    "\n",
    "            if rule.isClosed:\n",
    "                continue\n",
    "\n",
    "            if self.is_close_nodes_cover(rule.nodeArr):\n",
    "                rule.isClosed = True\n",
    "                \n",
    "                self.closeRules.append(rule)\n",
    "                self.closeNodes.append(rule.goalNode)\n",
    "                \n",
    "                self.set_nodes_closed(rule.nodeArr)\n",
    "\n",
    "                rulesCount += 1\n",
    "\n",
    "                if rule.goalNode.number == self.goalNode.number:\n",
    "                    self.FY = 0\n",
    "                    break\n",
    "\n",
    "        return rulesCount\n",
    "\n",
    "    def is_close_nodes_cover(self, in_node_arr):\n",
    "        for node in in_node_arr:\n",
    "            if node.number not in [x.number for x in self.closeNodes]:\n",
    "                return False\n",
    "        return True\n",
    "\n",
    "    def set_nodes_closed(self, node_arr):\n",
    "        for node in node_arr:\n",
    "            node.isClosed = True\n"
   ]
  },
  {
   "cell_type": "code",
   "execution_count": 74,
   "metadata": {},
   "outputs": [
    {
     "name": "stdout",
     "output_type": "stream",
     "text": [
      "[101, 103, 102, 105] [1, 2, 5, 6, 9, 3, 4, 7, 14]\n"
     ]
    }
   ],
   "source": [
    "t = GraphBFS(get_rules()).search(Node(14), [Node(1), Node(2), Node(6), Node(9)])\n",
    "if t != None:\n",
    "    print([x.number for x in t[0]], [x.number for x in t[1]])\n",
    "else:\n",
    "    print(\"No\")\n"
   ]
  }
 ],
 "metadata": {
  "kernelspec": {
   "display_name": "Python 3",
   "language": "python",
   "name": "python3"
  },
  "language_info": {
   "codemirror_mode": {
    "name": "ipython",
    "version": 3
   },
   "file_extension": ".py",
   "mimetype": "text/x-python",
   "name": "python",
   "nbconvert_exporter": "python",
   "pygments_lexer": "ipython3",
   "version": "3.12.3"
  }
 },
 "nbformat": 4,
 "nbformat_minor": 2
}
